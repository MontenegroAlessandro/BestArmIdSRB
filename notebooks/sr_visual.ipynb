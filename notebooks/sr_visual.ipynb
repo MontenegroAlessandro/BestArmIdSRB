{
 "cells": [
  {
   "cell_type": "markdown",
   "source": [
    "# Old Successive Rejects"
   ],
   "metadata": {
    "collapsed": false
   }
  },
  {
   "cell_type": "code",
   "execution_count": 6,
   "outputs": [],
   "source": [
    "import numpy as np\n",
    "import matplotlib.pyplot as plt\n",
    "from math import ceil"
   ],
   "metadata": {
    "collapsed": false
   }
  },
  {
   "cell_type": "markdown",
   "source": [
    "Visualizaion of the phases"
   ],
   "metadata": {
    "collapsed": false
   }
  },
  {
   "cell_type": "code",
   "execution_count": 7,
   "outputs": [],
   "source": [
    "# log bar definition\n",
    "def log_bar(K):\n",
    "    res = .5\n",
    "    for i in range(2, K+1):\n",
    "        res += 1/i\n",
    "    return res"
   ],
   "metadata": {
    "collapsed": false
   }
  },
  {
   "cell_type": "code",
   "execution_count": 27,
   "outputs": [],
   "source": [
    "# Definition of parameters\n",
    "K = 10\n",
    "T = 200\n",
    "log = log_bar(K)\n",
    "\n",
    "# build the number of pulls per phase\n",
    "phases = [0] * (K-1)\n",
    "for i in range(1, K):\n",
    "    phases[i-1] = ceil((1/log) * (T-K)/(K + 1 - i))"
   ],
   "metadata": {
    "collapsed": false
   }
  },
  {
   "cell_type": "code",
   "execution_count": 28,
   "outputs": [
    {
     "name": "stdout",
     "output_type": "stream",
     "text": [
      "Pulls per agent in each phase: [8, 9, 10, 12, 14, 16, 20, 27, 40]\n",
      "Total budget consumed: 196\n"
     ]
    }
   ],
   "source": [
    "print(\"Pulls per agent in each phase: \" + str(phases))\n",
    "\n",
    "res = sum(phases) + phases[len(phases)-1]\n",
    "print(\"Total budget consumed: \" + str(res))"
   ],
   "metadata": {
    "collapsed": false
   }
  },
  {
   "cell_type": "code",
   "execution_count": 31,
   "outputs": [
    {
     "data": {
      "text/plain": "<Figure size 432x288 with 0 Axes>"
     },
     "metadata": {},
     "output_type": "display_data"
    },
    {
     "data": {
      "text/plain": "<Figure size 720x720 with 1 Axes>",
      "image/png": "[encoded data removed]"
     },
     "metadata": {
      "needs_background": "light"
     },
     "output_type": "display_data"
    }
   ],
   "source": [
    "# plot phases pull\n",
    "x = np.arange(0, max(phases))\n",
    "y = [1] * max(phases)\n",
    "\n",
    "# clear the plot\n",
    "plt.clf()\n",
    "plt.figure(figsize=(10, 10))\n",
    "\n",
    "# plot a line\n",
    "plt.plot(x, y, \"-\", color=\"blue\")\n",
    "\n",
    "# plot the phases\n",
    "for elem in phases:\n",
    "    plt.plot(elem, 1, \"o\", color=\"orange\")\n",
    "\n",
    "# set visualization stuff\n",
    "plt.title(\"Pulls Visualization\")\n",
    "plt.grid()"
   ],
   "metadata": {
    "collapsed": false
   }
  },
  {
   "cell_type": "code",
   "execution_count": null,
   "outputs": [],
   "source": [],
   "metadata": {
    "collapsed": false
   }
  }
 ],
 "metadata": {},
 "nbformat": 4,
 "nbformat_minor": 5
}
